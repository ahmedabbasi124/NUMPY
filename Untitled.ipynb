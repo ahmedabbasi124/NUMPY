{
 "cells": [
  {
   "cell_type": "code",
   "execution_count": 21,
   "id": "d40f6c75-387c-4b88-b082-97db59fc82d2",
   "metadata": {},
   "outputs": [
    {
     "name": "stdout",
     "output_type": "stream",
     "text": [
      "i am muhammad ali \n",
      "i am from ajk\n",
      "\n",
      "a quick brown fox jumps over the lazy dog\n"
     ]
    }
   ],
   "source": [
    "f = open(\"demo.purpose.txt\" , \"r\")\n",
    "data = f.read()\n",
    "print(data)"
   ]
  },
  {
   "cell_type": "code",
   "execution_count": 23,
   "id": "0ae43156-9938-4050-bbae-63b143e859b1",
   "metadata": {},
   "outputs": [
    {
     "name": "stdout",
     "output_type": "stream",
     "text": [
      "i am muham\n"
     ]
    }
   ],
   "source": [
    " f = open(\"demo.purpose.txt\" , \"r\")\n",
    "data = f.read(10)\n",
    "print(data)"
   ]
  },
  {
   "cell_type": "code",
   "execution_count": 43,
   "id": "512e1185-0dce-4f6e-8b5f-e8881f82fed2",
   "metadata": {},
   "outputs": [
    {
     "name": "stdout",
     "output_type": "stream",
     "text": [
      "I am Awais  \n",
      "\n",
      "I am from ajk\n",
      "\n",
      "Corvit MZD\n",
      "\n"
     ]
    }
   ],
   "source": [
    "f = open(\"demo.purpose.txt\" , \"r\")\n",
    "data = f.readline()\n",
    "data1 = f.readline()\n",
    "data2 = f.readline()\n",
    "data\n",
    "print(data)\n",
    "print(data1)\n",
    "print(data2)"
   ]
  },
  {
   "cell_type": "code",
   "execution_count": 51,
   "id": "53d46818-100e-456c-9d3d-a321f5175809",
   "metadata": {},
   "outputs": [
    {
     "data": {
      "text/plain": [
       "['I am Awais  \\n',\n",
       " 'I am from ajk\\n',\n",
       " 'Corvit MZD\\n',\n",
       " 'demo text for\\n',\n",
       " 'file handling \\n']"
      ]
     },
     "execution_count": 51,
     "metadata": {},
     "output_type": "execute_result"
    }
   ],
   "source": [
    "f = open(\"demo.purpose.txt\" , \"r\")\n",
    "lines = []\n",
    "for i in range(0,5):\n",
    "    line = f.readline()\n",
    "    lines.append(line)\n",
    "lines\n"
   ]
  },
  {
   "cell_type": "code",
   "execution_count": 64,
   "id": "9cfceba0-312d-4e81-a6ba-1d5d083e19e9",
   "metadata": {},
   "outputs": [
    {
     "name": "stdout",
     "output_type": "stream",
     "text": [
      "Any Question!\n"
     ]
    }
   ],
   "source": [
    "f = open(\"demo.purpose.txt\" , \"w\")\n",
    "f.write(\"Any Question!\")\n",
    "f.close()\n",
    "f = open(\"demo.purpose.txt\" , \"r\")\n",
    "data = f.readline()\n",
    "print(data)"
   ]
  },
  {
   "cell_type": "code",
   "execution_count": 88,
   "id": "a716565c-15c8-4677-8eef-f3539e5f5925",
   "metadata": {
    "scrolled": true
   },
   "outputs": [
    {
     "name": "stdout",
     "output_type": "stream",
     "text": [
      "Any Question!this ois new filethis ois new filethis ois new filethis ois new filethis ois new filethis is new filethis is new filethis is new file\n"
     ]
    }
   ],
   "source": [
    "f = open(\"demo.purpose.png\" , \"a\")\n",
    "f.write(\"this is new file\")\n",
    "f.close()\n",
    "f = open(\"demo.purpose.txt\" , \"r\")\n",
    "data = f.readline()\n",
    "print(data)"
   ]
  },
  {
   "cell_type": "code",
   "execution_count": 98,
   "id": "9d8a5a78-d514-49af-a694-44d80dd9991d",
   "metadata": {},
   "outputs": [
    {
     "name": "stdout",
     "output_type": "stream",
     "text": [
      "hello\n"
     ]
    }
   ],
   "source": [
    "with open(\"open.txt\" , \"w\") as f:\n",
    "    f.write(\"hello\")\n",
    "with open(\"open.txt\" , \"r\") as f:\n",
    "    line = f.read()\n",
    "print(line)"
   ]
  },
  {
   "cell_type": "code",
   "execution_count": null,
   "id": "590d9484-934c-494f-a26c-ded662a827c6",
   "metadata": {},
   "outputs": [],
   "source": [
    "import os\n",
    "os.remove"
   ]
  },
  {
   "cell_type": "code",
   "execution_count": 119,
   "id": "f3d46a45-00a6-40f8-9db7-64cc2c4911d7",
   "metadata": {},
   "outputs": [
    {
     "ename": "SyntaxError",
     "evalue": "expected 'except' or 'finally' block (2667625601.py, line 9)",
     "output_type": "error",
     "traceback": [
      "\u001b[1;36m  Cell \u001b[1;32mIn[119], line 9\u001b[1;36m\u001b[0m\n\u001b[1;33m    file_path = \"practice.txt\"\u001b[0m\n\u001b[1;37m                                ^\u001b[0m\n\u001b[1;31mSyntaxError\u001b[0m\u001b[1;31m:\u001b[0m expected 'except' or 'finally' block\n"
     ]
    }
   ],
   "source": [
    "def replace_and_search():\n",
    "    try:\n",
    "        with open(\"practice.txt\", 'r') as file:\n",
    "            content = file.read()\n",
    "        modified_content = content.replace('java', 'python')\n",
    "        if 'projects' in modified_content:\n",
    "            print(\"The word 'projects' exists in the file.\")\n",
    "   \n",
    "file_path = \"practice.txt\"  \n",
    "replace_and_search(\"practice.txt\")\n"
   ]
  },
  {
   "cell_type": "code",
   "execution_count": 133,
   "id": "126d7594-837e-496e-929c-e6ff7dbb08ab",
   "metadata": {},
   "outputs": [
    {
     "name": "stdout",
     "output_type": "stream",
     "text": [
      "Hi,I am Awais, Machine leaarning and deep learning trainer.I use the java language for my projects.I like programing in java.\n",
      "Hi,I am Awais, Machine leaarning and deep learning trainer.I use the java language for my projects.I like programing in java.\n",
      "found\n"
     ]
    }
   ],
   "source": [
    "with open(\"practice.txt\" , \"w\") as f:\n",
    "    f.write(\"Hi,I am Awais, Machine leaarning and deep learning trainer.\")\n",
    "    f.write(\"I use the java language for my projects.I like programing in java.\")\n",
    "with open(\"practice.txt\" , \"r\") as f:\n",
    "    data = f.read()\n",
    "\n",
    "new_data = data.replace(\"Java\" , \"Python\")\n",
    "print(new_data)\n",
    "\n",
    "word = \"projects\"\n",
    "with open (\"practice.txt\" , \"r\") as f:\n",
    "    data = f. read()\n",
    "    print(data)\n",
    "    if(data.find(word)!=-1):\n",
    "        print(\"found\")\n",
    "    else:\n",
    "        print(\"Not Found\")"
   ]
  },
  {
   "cell_type": "code",
   "execution_count": null,
   "id": "7d27c867-fce2-4fea-b1db-7d0d62ebbc9d",
   "metadata": {},
   "outputs": [],
   "source": []
  },
  {
   "cell_type": "code",
   "execution_count": null,
   "id": "0fd8f1aa-8f5e-4edc-9cb3-72f346d14adf",
   "metadata": {},
   "outputs": [],
   "source": []
  },
  {
   "cell_type": "code",
   "execution_count": null,
   "id": "ee75a7ef-d744-4417-a6ee-e0aa75cb1c9c",
   "metadata": {},
   "outputs": [],
   "source": []
  },
  {
   "cell_type": "code",
   "execution_count": null,
   "id": "1565f49c-c113-4426-9cfa-f9d58d934999",
   "metadata": {},
   "outputs": [],
   "source": []
  },
  {
   "cell_type": "code",
   "execution_count": null,
   "id": "d984f8ad-986a-4c69-b32e-5d3d3f0d7536",
   "metadata": {},
   "outputs": [],
   "source": []
  },
  {
   "cell_type": "code",
   "execution_count": null,
   "id": "0f654e44-1758-46e2-9ef4-b49bdf1a1142",
   "metadata": {},
   "outputs": [],
   "source": []
  },
  {
   "cell_type": "code",
   "execution_count": null,
   "id": "64e83e1c-8c86-4fdd-aabf-75da12692c3e",
   "metadata": {},
   "outputs": [],
   "source": []
  },
  {
   "cell_type": "code",
   "execution_count": null,
   "id": "9eb35c23-eec2-4117-a755-c3022466fc28",
   "metadata": {},
   "outputs": [],
   "source": []
  },
  {
   "cell_type": "code",
   "execution_count": null,
   "id": "a374c3b5-be4c-4a91-8e74-0bfc36429f35",
   "metadata": {},
   "outputs": [],
   "source": []
  },
  {
   "cell_type": "code",
   "execution_count": null,
   "id": "f0faa0c8-b978-4249-8e3b-b4a5d1c306d4",
   "metadata": {},
   "outputs": [],
   "source": []
  },
  {
   "cell_type": "code",
   "execution_count": null,
   "id": "ca31a50a-47c7-4189-85ef-8f5ebbe34b18",
   "metadata": {},
   "outputs": [],
   "source": []
  },
  {
   "cell_type": "code",
   "execution_count": null,
   "id": "b39a0d2a-b9de-481d-98c3-fe919bf3672b",
   "metadata": {},
   "outputs": [],
   "source": []
  },
  {
   "cell_type": "code",
   "execution_count": null,
   "id": "fc5c34c7-9fe0-4b93-ab1f-90864a9871b4",
   "metadata": {},
   "outputs": [],
   "source": []
  },
  {
   "cell_type": "code",
   "execution_count": null,
   "id": "88292c5d-29f4-40fb-9ec7-9f6e07466c1d",
   "metadata": {},
   "outputs": [],
   "source": []
  },
  {
   "cell_type": "code",
   "execution_count": null,
   "id": "7dab9508-1fc3-4a64-b191-af4d993fccad",
   "metadata": {},
   "outputs": [],
   "source": []
  },
  {
   "cell_type": "code",
   "execution_count": null,
   "id": "19f6ec6d-3cff-4668-9406-c2c57bc35e75",
   "metadata": {},
   "outputs": [],
   "source": []
  },
  {
   "cell_type": "code",
   "execution_count": null,
   "id": "cf2d8cb4-03f1-4079-b04d-4874aa3974e4",
   "metadata": {},
   "outputs": [],
   "source": []
  },
  {
   "cell_type": "code",
   "execution_count": null,
   "id": "0ab75a9c-1983-4e37-9091-6c015365c7bf",
   "metadata": {},
   "outputs": [],
   "source": []
  },
  {
   "cell_type": "code",
   "execution_count": null,
   "id": "7292f084-bb7f-4ecf-acd2-7ecacd030a24",
   "metadata": {},
   "outputs": [],
   "source": []
  },
  {
   "cell_type": "code",
   "execution_count": null,
   "id": "1093909c-dfad-4f55-934a-cd658d00f755",
   "metadata": {},
   "outputs": [],
   "source": []
  },
  {
   "cell_type": "code",
   "execution_count": null,
   "id": "42a6a5e2-844c-4607-a54c-82ba1d7c7d2d",
   "metadata": {},
   "outputs": [],
   "source": []
  },
  {
   "cell_type": "code",
   "execution_count": null,
   "id": "41855560-2c6c-41f0-a804-dd1302961d34",
   "metadata": {},
   "outputs": [],
   "source": []
  },
  {
   "cell_type": "code",
   "execution_count": null,
   "id": "50768819-55dd-4a1f-96e6-3a2ab7b28cc4",
   "metadata": {},
   "outputs": [],
   "source": []
  },
  {
   "cell_type": "code",
   "execution_count": null,
   "id": "fc4849d5-b1b1-443f-bd09-d80ba07bba2e",
   "metadata": {},
   "outputs": [],
   "source": []
  },
  {
   "cell_type": "code",
   "execution_count": null,
   "id": "3c75cbb5-83ba-4e2c-8526-54e0af00734c",
   "metadata": {},
   "outputs": [],
   "source": []
  },
  {
   "cell_type": "code",
   "execution_count": null,
   "id": "53ea6019-72e9-4f93-b34d-0acbfb83dc88",
   "metadata": {},
   "outputs": [],
   "source": []
  },
  {
   "cell_type": "code",
   "execution_count": null,
   "id": "c1fc12ee-c903-41b2-80ac-624a3e4d762f",
   "metadata": {},
   "outputs": [],
   "source": []
  },
  {
   "cell_type": "code",
   "execution_count": null,
   "id": "9a69c8bd-7528-4491-a812-1c5ff48a5e5b",
   "metadata": {},
   "outputs": [],
   "source": []
  },
  {
   "cell_type": "code",
   "execution_count": null,
   "id": "1a5bd7a9-c04d-41cc-aff1-fc1fc05f4a48",
   "metadata": {},
   "outputs": [],
   "source": []
  },
  {
   "cell_type": "code",
   "execution_count": null,
   "id": "1f71b2c4-7745-4c29-8918-aa03d5a9f11d",
   "metadata": {},
   "outputs": [],
   "source": []
  },
  {
   "cell_type": "code",
   "execution_count": null,
   "id": "0f1ae686-bd66-48dd-b9ef-00efc99651b2",
   "metadata": {},
   "outputs": [],
   "source": []
  },
  {
   "cell_type": "code",
   "execution_count": null,
   "id": "cc4f94a2-b533-4b8f-953d-14783650b3ac",
   "metadata": {},
   "outputs": [],
   "source": []
  },
  {
   "cell_type": "code",
   "execution_count": null,
   "id": "3dea4b91-878d-480a-b418-b2e945945146",
   "metadata": {},
   "outputs": [],
   "source": []
  },
  {
   "cell_type": "code",
   "execution_count": null,
   "id": "a113b90a-68c1-4e8f-9094-bf49109aae32",
   "metadata": {},
   "outputs": [],
   "source": []
  },
  {
   "cell_type": "code",
   "execution_count": null,
   "id": "69688244-1b9e-4f82-b5e7-f0b4429ed9a0",
   "metadata": {},
   "outputs": [],
   "source": []
  },
  {
   "cell_type": "code",
   "execution_count": null,
   "id": "7eab6b0a-22b5-4f7b-9126-1d9f6bfaf43a",
   "metadata": {},
   "outputs": [],
   "source": []
  },
  {
   "cell_type": "code",
   "execution_count": null,
   "id": "ad3cfa71-5cb3-4318-91a7-2bb4803a577d",
   "metadata": {},
   "outputs": [],
   "source": []
  },
  {
   "cell_type": "code",
   "execution_count": null,
   "id": "050e5cc0-3fd4-4946-980e-e4b07b489569",
   "metadata": {},
   "outputs": [],
   "source": []
  },
  {
   "cell_type": "code",
   "execution_count": null,
   "id": "66ad9562-0423-4daf-b412-5e868312f343",
   "metadata": {},
   "outputs": [],
   "source": []
  },
  {
   "cell_type": "code",
   "execution_count": null,
   "id": "ff2da04e-f086-49d1-84bd-823d07caef74",
   "metadata": {},
   "outputs": [],
   "source": []
  },
  {
   "cell_type": "code",
   "execution_count": null,
   "id": "3c819b82-9792-4224-a3a3-162ae2021d94",
   "metadata": {},
   "outputs": [],
   "source": []
  },
  {
   "cell_type": "code",
   "execution_count": null,
   "id": "77b92ad3-ae49-45d3-8f7f-16ab951339ff",
   "metadata": {},
   "outputs": [],
   "source": []
  },
  {
   "cell_type": "code",
   "execution_count": null,
   "id": "8347ebe3-b625-4633-9d87-d0ae9d3de9a9",
   "metadata": {},
   "outputs": [],
   "source": []
  },
  {
   "cell_type": "code",
   "execution_count": null,
   "id": "3f97d1d4-f75b-4e69-a1bd-79ff29cfcc88",
   "metadata": {},
   "outputs": [],
   "source": []
  },
  {
   "cell_type": "code",
   "execution_count": null,
   "id": "a08d907f-c423-4dd5-a279-cfa245e4562a",
   "metadata": {},
   "outputs": [],
   "source": []
  },
  {
   "cell_type": "code",
   "execution_count": null,
   "id": "0bd9e43d-145f-48fb-9d01-cd1889d0004d",
   "metadata": {},
   "outputs": [],
   "source": []
  },
  {
   "cell_type": "code",
   "execution_count": null,
   "id": "384d5bd0-ebff-48f5-8071-f9c07ce7a947",
   "metadata": {},
   "outputs": [],
   "source": []
  },
  {
   "cell_type": "code",
   "execution_count": null,
   "id": "2342b6d0-b1c9-4f41-930d-e578c9bd77b0",
   "metadata": {},
   "outputs": [],
   "source": []
  },
  {
   "cell_type": "code",
   "execution_count": null,
   "id": "5b84e39f-3256-449a-82aa-5d032b2efbe3",
   "metadata": {},
   "outputs": [],
   "source": []
  },
  {
   "cell_type": "code",
   "execution_count": null,
   "id": "b7d605be-9797-4600-a7ec-852723f31f6d",
   "metadata": {},
   "outputs": [],
   "source": []
  },
  {
   "cell_type": "code",
   "execution_count": null,
   "id": "d0035f5e-0a33-4f53-8372-badc92c25049",
   "metadata": {},
   "outputs": [],
   "source": []
  },
  {
   "cell_type": "code",
   "execution_count": null,
   "id": "025c0987-419d-406f-890b-17feee30e52b",
   "metadata": {},
   "outputs": [],
   "source": []
  },
  {
   "cell_type": "code",
   "execution_count": null,
   "id": "473a8481-476a-4b3a-95d8-321f109ac5a3",
   "metadata": {},
   "outputs": [],
   "source": []
  },
  {
   "cell_type": "code",
   "execution_count": null,
   "id": "642256e4-f352-4c9c-a5eb-72694ca2d50c",
   "metadata": {},
   "outputs": [],
   "source": []
  },
  {
   "cell_type": "code",
   "execution_count": null,
   "id": "491ad0bc-dc94-4bcc-b6fe-fed22168bc35",
   "metadata": {},
   "outputs": [],
   "source": []
  },
  {
   "cell_type": "code",
   "execution_count": null,
   "id": "27fc3dd4-b986-40a5-ab86-48d914ec73eb",
   "metadata": {},
   "outputs": [],
   "source": []
  },
  {
   "cell_type": "code",
   "execution_count": null,
   "id": "a61cffa8-3ade-45a9-b39f-7bec13486fd8",
   "metadata": {},
   "outputs": [],
   "source": []
  },
  {
   "cell_type": "code",
   "execution_count": null,
   "id": "d84b5f4a-082a-4635-94e7-249524066111",
   "metadata": {},
   "outputs": [],
   "source": []
  },
  {
   "cell_type": "code",
   "execution_count": null,
   "id": "74c82f78-6bb2-4711-916d-716c76e9b79a",
   "metadata": {},
   "outputs": [],
   "source": []
  },
  {
   "cell_type": "code",
   "execution_count": null,
   "id": "a0092ac2-61e3-4896-804d-b1aef7e82b00",
   "metadata": {},
   "outputs": [],
   "source": []
  },
  {
   "cell_type": "code",
   "execution_count": null,
   "id": "60ace5d5-913e-47a0-b390-49a5249dc8f6",
   "metadata": {},
   "outputs": [],
   "source": []
  },
  {
   "cell_type": "code",
   "execution_count": null,
   "id": "b35aabf4-7ad0-4dbc-b6d3-5947d7aee308",
   "metadata": {},
   "outputs": [],
   "source": []
  },
  {
   "cell_type": "code",
   "execution_count": null,
   "id": "30b646fe-faac-4ad1-8b0c-1c780b4e764f",
   "metadata": {},
   "outputs": [],
   "source": []
  },
  {
   "cell_type": "code",
   "execution_count": null,
   "id": "f62e3564-3803-4c14-b177-19d673d16b01",
   "metadata": {},
   "outputs": [],
   "source": []
  },
  {
   "cell_type": "code",
   "execution_count": null,
   "id": "56081367-cae0-4a50-ae5e-b51ea9dbe325",
   "metadata": {},
   "outputs": [],
   "source": []
  },
  {
   "cell_type": "code",
   "execution_count": null,
   "id": "96a40806-cbf4-4174-a65b-81bfaea026dc",
   "metadata": {},
   "outputs": [],
   "source": []
  },
  {
   "cell_type": "code",
   "execution_count": null,
   "id": "0d7eb0e4-0567-4ed5-8dbc-8ede61445514",
   "metadata": {},
   "outputs": [],
   "source": []
  },
  {
   "cell_type": "code",
   "execution_count": null,
   "id": "df816741-e547-4a19-a7f6-3da3d380d100",
   "metadata": {},
   "outputs": [],
   "source": []
  },
  {
   "cell_type": "code",
   "execution_count": null,
   "id": "5274014e-da59-4882-97a1-4f9c8ba5a2af",
   "metadata": {},
   "outputs": [],
   "source": []
  },
  {
   "cell_type": "code",
   "execution_count": null,
   "id": "9722aa44-8585-45f9-8c69-e0d3a83772a8",
   "metadata": {},
   "outputs": [],
   "source": []
  },
  {
   "cell_type": "code",
   "execution_count": null,
   "id": "a6d3a9b6-b743-4c9f-9e57-fde3c954b0f4",
   "metadata": {},
   "outputs": [],
   "source": []
  },
  {
   "cell_type": "code",
   "execution_count": null,
   "id": "49573fce-6ec8-4090-8565-3a5f09b39900",
   "metadata": {},
   "outputs": [],
   "source": []
  },
  {
   "cell_type": "code",
   "execution_count": null,
   "id": "f590db6a-0bcc-4328-9aa4-f0f6fb0d2dcf",
   "metadata": {},
   "outputs": [],
   "source": []
  },
  {
   "cell_type": "code",
   "execution_count": null,
   "id": "847423d5-3c48-4016-849a-ae54f8998b2c",
   "metadata": {},
   "outputs": [],
   "source": []
  },
  {
   "cell_type": "code",
   "execution_count": null,
   "id": "3e0ad750-de64-4fbe-9cb9-5e2b4b94860f",
   "metadata": {},
   "outputs": [],
   "source": []
  },
  {
   "cell_type": "code",
   "execution_count": null,
   "id": "4ef8f1b0-42f4-4f81-a400-c3a4460e44d3",
   "metadata": {},
   "outputs": [],
   "source": []
  },
  {
   "cell_type": "code",
   "execution_count": null,
   "id": "d52f13bd-1439-411b-93a9-7bebe3d89cfd",
   "metadata": {},
   "outputs": [],
   "source": []
  },
  {
   "cell_type": "code",
   "execution_count": null,
   "id": "5b5df683-9599-42dd-a5c0-4749975f704f",
   "metadata": {},
   "outputs": [],
   "source": []
  },
  {
   "cell_type": "code",
   "execution_count": null,
   "id": "9bab3cc5-10a6-4ade-9247-0b0eedff57b0",
   "metadata": {},
   "outputs": [],
   "source": []
  },
  {
   "cell_type": "code",
   "execution_count": null,
   "id": "03782154-f8a9-4ff2-88a2-2415cff8dd12",
   "metadata": {},
   "outputs": [],
   "source": []
  },
  {
   "cell_type": "code",
   "execution_count": null,
   "id": "fddbf875-6b6b-46cf-bfa4-3b9ac31327f9",
   "metadata": {},
   "outputs": [],
   "source": []
  },
  {
   "cell_type": "code",
   "execution_count": null,
   "id": "3821dcb7-6839-4423-9b80-b5baf4f07b59",
   "metadata": {},
   "outputs": [],
   "source": []
  },
  {
   "cell_type": "code",
   "execution_count": null,
   "id": "19fbcd29-f009-48e3-a887-2e0851e8a882",
   "metadata": {},
   "outputs": [],
   "source": []
  },
  {
   "cell_type": "code",
   "execution_count": null,
   "id": "b8d231bd-4931-4d3a-a529-aa420ef6ef22",
   "metadata": {},
   "outputs": [],
   "source": []
  },
  {
   "cell_type": "code",
   "execution_count": null,
   "id": "3b0d055d-6adc-476c-96bd-e1bee28d7365",
   "metadata": {},
   "outputs": [],
   "source": []
  },
  {
   "cell_type": "code",
   "execution_count": null,
   "id": "490668fb-3c86-4024-a07f-94ed1d595059",
   "metadata": {},
   "outputs": [],
   "source": []
  },
  {
   "cell_type": "code",
   "execution_count": null,
   "id": "52f109cd-afd7-4c49-a1a9-4e1410106e21",
   "metadata": {},
   "outputs": [],
   "source": []
  },
  {
   "cell_type": "code",
   "execution_count": null,
   "id": "c8365254-960a-4786-8aab-e9e317114613",
   "metadata": {},
   "outputs": [],
   "source": []
  },
  {
   "cell_type": "code",
   "execution_count": null,
   "id": "3d2fa161-6a2f-4e62-95d9-2c351a3bab61",
   "metadata": {},
   "outputs": [],
   "source": []
  },
  {
   "cell_type": "code",
   "execution_count": null,
   "id": "e27888dc-5ff5-4458-a67e-4aa16db7e3ba",
   "metadata": {},
   "outputs": [],
   "source": []
  },
  {
   "cell_type": "code",
   "execution_count": null,
   "id": "aa5f8ba2-4984-48b0-8623-7c2b2d02c9f0",
   "metadata": {},
   "outputs": [],
   "source": []
  },
  {
   "cell_type": "code",
   "execution_count": null,
   "id": "65b086de-7b46-492f-a6a4-c275aa49a50c",
   "metadata": {},
   "outputs": [],
   "source": []
  },
  {
   "cell_type": "code",
   "execution_count": null,
   "id": "bd2f1495-3041-4b44-a2d5-cd6fac6d2198",
   "metadata": {},
   "outputs": [],
   "source": []
  },
  {
   "cell_type": "code",
   "execution_count": null,
   "id": "c7d467a9-d2c4-46da-8c67-7511a2293683",
   "metadata": {},
   "outputs": [],
   "source": []
  },
  {
   "cell_type": "code",
   "execution_count": null,
   "id": "53612749-be1e-456c-b247-3682d251ea87",
   "metadata": {},
   "outputs": [],
   "source": []
  },
  {
   "cell_type": "code",
   "execution_count": null,
   "id": "0e820b66-fe73-4082-b6e2-f9603f8dd722",
   "metadata": {},
   "outputs": [],
   "source": []
  },
  {
   "cell_type": "code",
   "execution_count": null,
   "id": "e7094a55-1c4c-47da-b649-49f3baca3ac0",
   "metadata": {},
   "outputs": [],
   "source": []
  },
  {
   "cell_type": "code",
   "execution_count": null,
   "id": "030456ff-7f58-4d16-87d1-a5cb4e266a37",
   "metadata": {},
   "outputs": [],
   "source": []
  },
  {
   "cell_type": "code",
   "execution_count": null,
   "id": "0274d47f-ee46-45ed-8ed4-a41c3ea42a40",
   "metadata": {},
   "outputs": [],
   "source": []
  },
  {
   "cell_type": "code",
   "execution_count": null,
   "id": "866a5473-b95d-42d2-be1b-72f8dec93062",
   "metadata": {},
   "outputs": [],
   "source": []
  },
  {
   "cell_type": "code",
   "execution_count": null,
   "id": "88ebe420-3413-4a5e-a985-4319e81db9ba",
   "metadata": {},
   "outputs": [],
   "source": []
  },
  {
   "cell_type": "code",
   "execution_count": null,
   "id": "cfc065d2-664c-43b8-b819-37c24eaeb0a9",
   "metadata": {},
   "outputs": [],
   "source": []
  },
  {
   "cell_type": "code",
   "execution_count": null,
   "id": "13f2cbaa-c95d-4c4c-83d8-d0500f1cadbf",
   "metadata": {},
   "outputs": [],
   "source": []
  },
  {
   "cell_type": "code",
   "execution_count": null,
   "id": "69ae4b3a-a4c8-4dca-b007-17ddb5e9631c",
   "metadata": {},
   "outputs": [],
   "source": []
  },
  {
   "cell_type": "code",
   "execution_count": null,
   "id": "23b4bdcd-c4b2-4bd5-bfb3-67c1e4d595f7",
   "metadata": {},
   "outputs": [],
   "source": []
  },
  {
   "cell_type": "code",
   "execution_count": null,
   "id": "22a6f770-f8df-4da2-b6fb-39c7356e65ab",
   "metadata": {},
   "outputs": [],
   "source": []
  },
  {
   "cell_type": "code",
   "execution_count": null,
   "id": "e2e65323-a651-416c-a97b-938d05c8d926",
   "metadata": {},
   "outputs": [],
   "source": []
  },
  {
   "cell_type": "code",
   "execution_count": null,
   "id": "dd3459ed-39c9-441e-be8d-73a7e646967a",
   "metadata": {},
   "outputs": [],
   "source": []
  },
  {
   "cell_type": "code",
   "execution_count": null,
   "id": "3231bc14-46d8-45bc-9c43-0b9c3c71aafe",
   "metadata": {},
   "outputs": [],
   "source": []
  },
  {
   "cell_type": "code",
   "execution_count": null,
   "id": "3d295f9e-bc87-43d5-b08b-d58720f0e089",
   "metadata": {},
   "outputs": [],
   "source": []
  },
  {
   "cell_type": "code",
   "execution_count": null,
   "id": "e3510f84-2594-4c9f-88c4-72d56e9a4ddd",
   "metadata": {},
   "outputs": [],
   "source": []
  },
  {
   "cell_type": "code",
   "execution_count": null,
   "id": "d37e64dd-b11b-4ed6-ae22-bf1518345e2b",
   "metadata": {},
   "outputs": [],
   "source": []
  },
  {
   "cell_type": "code",
   "execution_count": null,
   "id": "c52aaa06-dde3-4b79-9f5b-1aa0dae4ddee",
   "metadata": {},
   "outputs": [],
   "source": []
  },
  {
   "cell_type": "code",
   "execution_count": null,
   "id": "732acb67-c4bb-4d70-add4-34fa64de9bb2",
   "metadata": {},
   "outputs": [],
   "source": []
  },
  {
   "cell_type": "code",
   "execution_count": null,
   "id": "a5b269f9-2f2f-4dda-9d52-3cc7c661ea84",
   "metadata": {},
   "outputs": [],
   "source": []
  },
  {
   "cell_type": "code",
   "execution_count": null,
   "id": "ac51d65d-53b9-40df-bb91-44bc9b9c3c4e",
   "metadata": {},
   "outputs": [],
   "source": []
  },
  {
   "cell_type": "code",
   "execution_count": null,
   "id": "0454c994-95c9-4c1e-964a-b18adb5b2a2e",
   "metadata": {},
   "outputs": [],
   "source": []
  },
  {
   "cell_type": "code",
   "execution_count": null,
   "id": "3ece6541-af83-4a32-bcfc-8b82a8ad3aaa",
   "metadata": {},
   "outputs": [],
   "source": []
  },
  {
   "cell_type": "code",
   "execution_count": null,
   "id": "0586ef19-54d9-477f-96fc-560c7f8c1bb6",
   "metadata": {},
   "outputs": [],
   "source": []
  },
  {
   "cell_type": "code",
   "execution_count": null,
   "id": "fde5489d-9b14-4790-9dc0-524d152d18d1",
   "metadata": {},
   "outputs": [],
   "source": []
  },
  {
   "cell_type": "code",
   "execution_count": null,
   "id": "29c40139-8723-48c7-b5f8-94b4f7d5fca0",
   "metadata": {},
   "outputs": [],
   "source": []
  },
  {
   "cell_type": "code",
   "execution_count": null,
   "id": "93a78b1c-9491-4cd5-9b16-eb24d816f551",
   "metadata": {},
   "outputs": [],
   "source": []
  },
  {
   "cell_type": "code",
   "execution_count": null,
   "id": "59c65bc5-e651-4618-b894-ca34f92c5211",
   "metadata": {},
   "outputs": [],
   "source": []
  },
  {
   "cell_type": "code",
   "execution_count": null,
   "id": "9bfd93d1-1a6f-4650-99e3-4d2b47d255ff",
   "metadata": {},
   "outputs": [],
   "source": []
  },
  {
   "cell_type": "code",
   "execution_count": null,
   "id": "e6b83b2b-1a2a-45a5-a006-0e0a9765271b",
   "metadata": {},
   "outputs": [],
   "source": []
  },
  {
   "cell_type": "code",
   "execution_count": null,
   "id": "aa680d5f-1ef3-4a34-8921-3b0e8808528d",
   "metadata": {},
   "outputs": [],
   "source": []
  }
 ],
 "metadata": {
  "kernelspec": {
   "display_name": "Python 3 (ipykernel)",
   "language": "python",
   "name": "python3"
  },
  "language_info": {
   "codemirror_mode": {
    "name": "ipython",
    "version": 3
   },
   "file_extension": ".py",
   "mimetype": "text/x-python",
   "name": "python",
   "nbconvert_exporter": "python",
   "pygments_lexer": "ipython3",
   "version": "3.12.4"
  }
 },
 "nbformat": 4,
 "nbformat_minor": 5
}
